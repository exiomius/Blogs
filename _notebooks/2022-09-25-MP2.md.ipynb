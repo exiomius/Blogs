{
 "cells": [
  {
   "cell_type": "markdown",
   "id": "eb90f448",
   "metadata": {},
   "source": [
    "At the end of the last post, I wrote that:\n",
    "\n",
    "My current plan is to:\n",
    "Finish Fast.ai part 1. \n",
    "I will prioritise going through scikit-maad. I will however, still register and purchase fast.ai part 2. If time allows (within my free time and during holidays), I will go through the course.  \n",
    "\n",
    "However, as I continued through fast.ai part 1 I discovered their audio library, fastaudio. https://github.com/fastaudio/fastaudio, and several blog posts detailing using it to classify birds: https://www.ecosia.org/search?q=fast%20ai%20fastaudio%20bird%20classification&addon=opensearch"
   ]
  }
 ],
 "metadata": {
  "kernelspec": {
   "display_name": "Python 3 (ipykernel)",
   "language": "python",
   "name": "python3"
  },
  "language_info": {
   "codemirror_mode": {
    "name": "ipython",
    "version": 3
   },
   "file_extension": ".py",
   "mimetype": "text/x-python",
   "name": "python",
   "nbconvert_exporter": "python",
   "pygments_lexer": "ipython3",
   "version": "3.9.12"
  }
 },
 "nbformat": 4,
 "nbformat_minor": 5
}
