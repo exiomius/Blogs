{
 "cells": [
  {
   "cell_type": "markdown",
   "id": "d8374629",
   "metadata": {},
   "source": [
    "# FastAI Lessons 1&2 Roundup"
   ]
  },
  {
   "cell_type": "markdown",
   "id": "93694571",
   "metadata": {},
   "source": [
    "# H1 The topics covered, briefly\n",
    "- How to create and train a deep learning model in fastai\n",
    "- How to better filter and amend training data to get better model performance\n",
    "- How to export a dl model as a file\n",
    "- How to load dl models and allow websites to use them\n",
    "- How to save code online\n",
    "- How to host and create blog posts including code easily\n",
    "\n",
    "In order to cover these topics, many new tools were required. This includes Kaggle/Google Collab for creating , training and exporting models. Anaconda for Jupyter Notebooks. Visual Studio Code, a programming IDE, to interact with: HuggingFaceSpaces, a website to host models, and Github, a website to store one's code. It took much time and troubleshooting to understand how to install and use these tools, but the result is the understanding of how to quickly produce deep learning models and make them accessable on the internet, as well as produce blogs containing code, with good practices and expandability behind functionality."
   ]
  },
  {
   "cell_type": "markdown",
   "id": "0134f8fd",
   "metadata": {},
   "source": [
    "# H1 Links to webpage and code\n",
    "My machine learning model \"NovaOrToast\" attempts to classify whether a given cat photo is my older sister's cat Toast, or my younger sister's cat Nova. \n",
    "It can be found at https://huggingface.co/spaces/exiomius/NovaOrToast , where it is possible to upload images and get them classifed immediantly\n",
    "\n",
    "My repository for this can be found at https://github.com/exiomius/NovaOrToast"
   ]
  },
  {
   "cell_type": "markdown",
   "id": "2412761e",
   "metadata": {},
   "source": [
    "# H1 The pipeline to upload a machine learning model online\n",
    "\n",
    "1. Firstly create, train and export the model using a online IDE such as google collab or kaggle. This is because the training will take up much GPU computation, so it is better to avoid doing it on one's own machine.\n",
    "2. Create a Jupyter Notebook and import the fully trained model. Use a python module called Gradio to create a local webpage of your model to test if it works.\n",
    "3. Convert your Jupyter Notebook into a .py file.\n",
    "4. Using HuggingFaceSpaces, create a space for your new model\n",
    "5. Using Visual Studio Code, clone the repositry of your new space, then add in your Jupyter Notebook, .py file. \n",
    "6. Create a 'requirements'.txt including the modules used so that HuggingFaceSpaces knows the requirements\n",
    "7. Using Visual Studio Code, use Git to push your update to HuggingFaceSpaces. \n",
    "8. After a few minutes, your model will be avaliable on the HuggingFaceSpaces space you created.\n",
    "\n",
    "Not included are many many details of how to specifically do these instructions, as there are too many to throughly convey, especially as much time was spend troubleshooting."
   ]
  }
 ],
 "metadata": {
  "kernelspec": {
   "display_name": "Python 3 (ipykernel)",
   "language": "python",
   "name": "python3"
  },
  "language_info": {
   "codemirror_mode": {
    "name": "ipython",
    "version": 3
   },
   "file_extension": ".py",
   "mimetype": "text/x-python",
   "name": "python",
   "nbconvert_exporter": "python",
   "pygments_lexer": "ipython3",
   "version": "3.9.12"
  }
 },
 "nbformat": 4,
 "nbformat_minor": 5
}
