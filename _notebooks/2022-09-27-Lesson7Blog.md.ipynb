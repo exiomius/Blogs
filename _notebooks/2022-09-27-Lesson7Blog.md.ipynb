{
 "cells": [
  {
   "cell_type": "markdown",
   "id": "6f83d2f3",
   "metadata": {},
   "source": [
    "# Fast.ai Lessons 7 Roundup\n",
    "\n",
    "# Lesson Overview\n",
    "\n",
    "\n",
    "# The topics covered, briefly\n",
    "\n",
    "\n",
    "# Lecture Notes\n",
    "\n",
    "\n",
    "# Links\n",
    "\n",
    "[EX](https://www.kaggle.com/code/jhoward/first-steps-road-to-the-top-part-1)\n",
    "\n",
    "The course page for this sessions is https://course.fast.ai/Lessons/lesson7.html, which includes a lecture, notebooks, and a set of questions from the course book. My answers can be found on my GitHub repository, https://github.com/exiomius/PDL-Lesson-7."
   ]
  }
 ],
 "metadata": {
  "kernelspec": {
   "display_name": "Python 3 (ipykernel)",
   "language": "python",
   "name": "python3"
  },
  "language_info": {
   "codemirror_mode": {
    "name": "ipython",
    "version": 3
   },
   "file_extension": ".py",
   "mimetype": "text/x-python",
   "name": "python",
   "nbconvert_exporter": "python",
   "pygments_lexer": "ipython3",
   "version": "3.9.12"
  }
 },
 "nbformat": 4,
 "nbformat_minor": 5
}
